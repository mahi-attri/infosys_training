{
 "cells": [
  {
   "cell_type": "code",
   "execution_count": 1,
   "id": "1465628d-668d-4c71-b4f2-11db81b44403",
   "metadata": {},
   "outputs": [
    {
     "name": "stdout",
     "output_type": "stream",
     "text": [
      "Collecting easyocr\n",
      "  Downloading easyocr-1.7.2-py3-none-any.whl.metadata (10 kB)\n",
      "Requirement already satisfied: torch in c:\\users\\mahia\\appdata\\local\\programs\\python\\python312\\lib\\site-packages (from easyocr) (2.6.0)\n",
      "Requirement already satisfied: torchvision>=0.5 in c:\\users\\mahia\\appdata\\local\\programs\\python\\python312\\lib\\site-packages (from easyocr) (0.21.0)\n",
      "Collecting opencv-python-headless (from easyocr)\n",
      "  Downloading opencv_python_headless-4.11.0.86-cp37-abi3-win_amd64.whl.metadata (20 kB)\n",
      "Requirement already satisfied: scipy in c:\\users\\mahia\\appdata\\local\\programs\\python\\python312\\lib\\site-packages (from easyocr) (1.14.1)\n",
      "Requirement already satisfied: numpy in c:\\users\\mahia\\appdata\\local\\programs\\python\\python312\\lib\\site-packages (from easyocr) (1.26.4)\n",
      "Requirement already satisfied: Pillow in c:\\users\\mahia\\appdata\\local\\programs\\python\\python312\\lib\\site-packages (from easyocr) (10.4.0)\n",
      "Collecting scikit-image (from easyocr)\n",
      "  Downloading scikit_image-0.25.2-cp312-cp312-win_amd64.whl.metadata (14 kB)\n",
      "Collecting python-bidi (from easyocr)\n",
      "  Downloading python_bidi-0.6.6-cp312-cp312-win_amd64.whl.metadata (5.0 kB)\n",
      "Requirement already satisfied: PyYAML in c:\\users\\mahia\\appdata\\local\\programs\\python\\python312\\lib\\site-packages (from easyocr) (6.0.2)\n",
      "Requirement already satisfied: Shapely in c:\\users\\mahia\\appdata\\local\\programs\\python\\python312\\lib\\site-packages (from easyocr) (2.0.6)\n",
      "Collecting pyclipper (from easyocr)\n",
      "  Downloading pyclipper-1.3.0.post6-cp312-cp312-win_amd64.whl.metadata (9.2 kB)\n",
      "Collecting ninja (from easyocr)\n",
      "  Downloading ninja-1.11.1.3-py3-none-win_amd64.whl.metadata (5.3 kB)\n",
      "Requirement already satisfied: filelock in c:\\users\\mahia\\appdata\\local\\programs\\python\\python312\\lib\\site-packages (from torch->easyocr) (3.17.0)\n",
      "Requirement already satisfied: typing-extensions>=4.10.0 in c:\\users\\mahia\\appdata\\local\\programs\\python\\python312\\lib\\site-packages (from torch->easyocr) (4.12.2)\n",
      "Requirement already satisfied: networkx in c:\\users\\mahia\\appdata\\local\\programs\\python\\python312\\lib\\site-packages (from torch->easyocr) (3.3)\n",
      "Requirement already satisfied: jinja2 in c:\\users\\mahia\\appdata\\local\\programs\\python\\python312\\lib\\site-packages (from torch->easyocr) (3.1.4)\n",
      "Requirement already satisfied: fsspec in c:\\users\\mahia\\appdata\\local\\programs\\python\\python312\\lib\\site-packages (from torch->easyocr) (2025.2.0)\n",
      "Requirement already satisfied: setuptools in c:\\users\\mahia\\appdata\\local\\programs\\python\\python312\\lib\\site-packages (from torch->easyocr) (74.1.2)\n",
      "Requirement already satisfied: sympy==1.13.1 in c:\\users\\mahia\\appdata\\local\\programs\\python\\python312\\lib\\site-packages (from torch->easyocr) (1.13.1)\n",
      "Requirement already satisfied: mpmath<1.4,>=1.1.0 in c:\\users\\mahia\\appdata\\local\\programs\\python\\python312\\lib\\site-packages (from sympy==1.13.1->torch->easyocr) (1.3.0)\n",
      "Collecting imageio!=2.35.0,>=2.33 (from scikit-image->easyocr)\n",
      "  Downloading imageio-2.37.0-py3-none-any.whl.metadata (5.2 kB)\n",
      "Collecting tifffile>=2022.8.12 (from scikit-image->easyocr)\n",
      "  Downloading tifffile-2025.2.18-py3-none-any.whl.metadata (31 kB)\n",
      "Requirement already satisfied: packaging>=21 in c:\\users\\mahia\\appdata\\local\\programs\\python\\python312\\lib\\site-packages (from scikit-image->easyocr) (24.1)\n",
      "Collecting lazy-loader>=0.4 (from scikit-image->easyocr)\n",
      "  Downloading lazy_loader-0.4-py3-none-any.whl.metadata (7.6 kB)\n",
      "Requirement already satisfied: MarkupSafe>=2.0 in c:\\users\\mahia\\appdata\\local\\programs\\python\\python312\\lib\\site-packages (from jinja2->torch->easyocr) (2.1.5)\n",
      "Downloading easyocr-1.7.2-py3-none-any.whl (2.9 MB)\n",
      "   ---------------------------------------- 0.0/2.9 MB ? eta -:--:--\n",
      "   --------------------- ------------------ 1.6/2.9 MB 10.5 MB/s eta 0:00:01\n",
      "   ---------------------------------------- 2.9/2.9 MB 9.2 MB/s eta 0:00:00\n",
      "Downloading ninja-1.11.1.3-py3-none-win_amd64.whl (296 kB)\n",
      "Downloading opencv_python_headless-4.11.0.86-cp37-abi3-win_amd64.whl (39.4 MB)\n",
      "   ---------------------------------------- 0.0/39.4 MB ? eta -:--:--\n",
      "   - -------------------------------------- 1.0/39.4 MB 5.0 MB/s eta 0:00:08\n",
      "   -- ------------------------------------- 2.4/39.4 MB 5.4 MB/s eta 0:00:07\n",
      "   --- ------------------------------------ 3.1/39.4 MB 4.9 MB/s eta 0:00:08\n",
      "   --- ------------------------------------ 3.7/39.4 MB 4.3 MB/s eta 0:00:09\n",
      "   ---- ----------------------------------- 4.2/39.4 MB 4.0 MB/s eta 0:00:09\n",
      "   ---- ----------------------------------- 4.7/39.4 MB 3.7 MB/s eta 0:00:10\n",
      "   ----- ---------------------------------- 5.2/39.4 MB 3.5 MB/s eta 0:00:10\n",
      "   ----- ---------------------------------- 5.8/39.4 MB 3.5 MB/s eta 0:00:10\n",
      "   ------ --------------------------------- 6.6/39.4 MB 3.4 MB/s eta 0:00:10\n",
      "   ------- -------------------------------- 7.3/39.4 MB 3.5 MB/s eta 0:00:10\n",
      "   -------- ------------------------------- 8.1/39.4 MB 3.5 MB/s eta 0:00:09\n",
      "   --------- ------------------------------ 9.2/39.4 MB 3.6 MB/s eta 0:00:09\n",
      "   --------- ------------------------------ 9.7/39.4 MB 3.6 MB/s eta 0:00:09\n",
      "   ---------- ----------------------------- 10.7/39.4 MB 3.6 MB/s eta 0:00:08\n",
      "   ----------- ---------------------------- 11.5/39.4 MB 3.7 MB/s eta 0:00:08\n",
      "   ------------ --------------------------- 12.6/39.4 MB 3.7 MB/s eta 0:00:08\n",
      "   ------------- -------------------------- 13.6/39.4 MB 3.8 MB/s eta 0:00:07\n",
      "   --------------- ------------------------ 14.9/39.4 MB 3.9 MB/s eta 0:00:07\n",
      "   ---------------- ----------------------- 16.0/39.4 MB 4.0 MB/s eta 0:00:06\n",
      "   ----------------- ---------------------- 16.8/39.4 MB 4.0 MB/s eta 0:00:06\n",
      "   ------------------ --------------------- 17.8/39.4 MB 4.0 MB/s eta 0:00:06\n",
      "   ------------------- -------------------- 19.1/39.4 MB 4.2 MB/s eta 0:00:05\n",
      "   -------------------- ------------------- 20.4/39.4 MB 4.2 MB/s eta 0:00:05\n",
      "   --------------------- ------------------ 21.5/39.4 MB 4.3 MB/s eta 0:00:05\n",
      "   ---------------------- ----------------- 22.0/39.4 MB 4.2 MB/s eta 0:00:05\n",
      "   ---------------------- ----------------- 22.3/39.4 MB 4.2 MB/s eta 0:00:05\n",
      "   ----------------------- ---------------- 22.8/39.4 MB 4.0 MB/s eta 0:00:05\n",
      "   ----------------------- ---------------- 23.1/39.4 MB 4.0 MB/s eta 0:00:05\n",
      "   ------------------------ --------------- 23.9/39.4 MB 3.9 MB/s eta 0:00:04\n",
      "   ------------------------ --------------- 24.1/39.4 MB 3.9 MB/s eta 0:00:04\n",
      "   ------------------------- -------------- 24.9/39.4 MB 3.8 MB/s eta 0:00:04\n",
      "   -------------------------- ------------- 25.7/39.4 MB 3.8 MB/s eta 0:00:04\n",
      "   -------------------------- ------------- 26.5/39.4 MB 3.8 MB/s eta 0:00:04\n",
      "   --------------------------- ------------ 27.5/39.4 MB 3.8 MB/s eta 0:00:04\n",
      "   ---------------------------- ----------- 28.3/39.4 MB 3.8 MB/s eta 0:00:03\n",
      "   ------------------------------ --------- 29.6/39.4 MB 3.9 MB/s eta 0:00:03\n",
      "   ------------------------------ --------- 30.1/39.4 MB 3.9 MB/s eta 0:00:03\n",
      "   ------------------------------- -------- 31.2/39.4 MB 3.9 MB/s eta 0:00:03\n",
      "   -------------------------------- ------- 32.5/39.4 MB 3.9 MB/s eta 0:00:02\n",
      "   --------------------------------- ------ 33.3/39.4 MB 3.9 MB/s eta 0:00:02\n",
      "   ---------------------------------- ----- 34.1/39.4 MB 3.9 MB/s eta 0:00:02\n",
      "   ----------------------------------- ---- 34.9/39.4 MB 3.9 MB/s eta 0:00:02\n",
      "   ------------------------------------ --- 35.7/39.4 MB 3.9 MB/s eta 0:00:01\n",
      "   ------------------------------------ --- 35.9/39.4 MB 3.9 MB/s eta 0:00:01\n",
      "   ------------------------------------ --- 36.4/39.4 MB 3.8 MB/s eta 0:00:01\n",
      "   ------------------------------------- -- 37.2/39.4 MB 3.8 MB/s eta 0:00:01\n",
      "   -------------------------------------- - 37.5/39.4 MB 3.8 MB/s eta 0:00:01\n",
      "   -------------------------------------- - 38.0/39.4 MB 3.8 MB/s eta 0:00:01\n",
      "   ---------------------------------------  38.5/39.4 MB 3.7 MB/s eta 0:00:01\n",
      "   ---------------------------------------  38.8/39.4 MB 3.7 MB/s eta 0:00:01\n",
      "   ---------------------------------------  38.8/39.4 MB 3.7 MB/s eta 0:00:01\n",
      "   ---------------------------------------  38.8/39.4 MB 3.7 MB/s eta 0:00:01\n",
      "   ---------------------------------------  39.1/39.4 MB 3.5 MB/s eta 0:00:01\n",
      "   ---------------------------------------  39.3/39.4 MB 3.5 MB/s eta 0:00:01\n",
      "   ---------------------------------------- 39.4/39.4 MB 3.4 MB/s eta 0:00:00\n",
      "Downloading pyclipper-1.3.0.post6-cp312-cp312-win_amd64.whl (110 kB)\n",
      "Downloading python_bidi-0.6.6-cp312-cp312-win_amd64.whl (160 kB)\n",
      "Downloading scikit_image-0.25.2-cp312-cp312-win_amd64.whl (12.9 MB)\n",
      "   ---------------------------------------- 0.0/12.9 MB ? eta -:--:--\n",
      "   ---------------------------------------- 0.0/12.9 MB ? eta -:--:--\n",
      "    --------------------------------------- 0.3/12.9 MB ? eta -:--:--\n",
      "    --------------------------------------- 0.3/12.9 MB ? eta -:--:--\n",
      "   -- ------------------------------------- 0.8/12.9 MB 1.2 MB/s eta 0:00:11\n",
      "   --- ------------------------------------ 1.0/12.9 MB 1.4 MB/s eta 0:00:09\n",
      "   ----- ---------------------------------- 1.8/12.9 MB 1.8 MB/s eta 0:00:07\n",
      "   ------- -------------------------------- 2.4/12.9 MB 2.1 MB/s eta 0:00:06\n",
      "   ---------- ----------------------------- 3.4/12.9 MB 2.4 MB/s eta 0:00:04\n",
      "   ------------- -------------------------- 4.2/12.9 MB 2.6 MB/s eta 0:00:04\n",
      "   ---------------- ----------------------- 5.2/12.9 MB 2.9 MB/s eta 0:00:03\n",
      "   ------------------ --------------------- 6.0/12.9 MB 3.1 MB/s eta 0:00:03\n",
      "   --------------------- ------------------ 7.1/12.9 MB 3.2 MB/s eta 0:00:02\n",
      "   -------------------------- ------------- 8.4/12.9 MB 3.4 MB/s eta 0:00:02\n",
      "   ------------------------------ --------- 9.7/12.9 MB 3.6 MB/s eta 0:00:01\n",
      "   ---------------------------------- ----- 11.0/12.9 MB 3.8 MB/s eta 0:00:01\n",
      "   -------------------------------------- - 12.3/12.9 MB 4.0 MB/s eta 0:00:01\n",
      "   ---------------------------------------- 12.9/12.9 MB 4.0 MB/s eta 0:00:00\n",
      "Downloading imageio-2.37.0-py3-none-any.whl (315 kB)\n",
      "Downloading lazy_loader-0.4-py3-none-any.whl (12 kB)\n",
      "Downloading tifffile-2025.2.18-py3-none-any.whl (226 kB)\n",
      "Installing collected packages: python-bidi, pyclipper, tifffile, opencv-python-headless, ninja, lazy-loader, imageio, scikit-image, easyocr\n",
      "Successfully installed easyocr-1.7.2 imageio-2.37.0 lazy-loader-0.4 ninja-1.11.1.3 opencv-python-headless-4.11.0.86 pyclipper-1.3.0.post6 python-bidi-0.6.6 scikit-image-0.25.2 tifffile-2025.2.18\n"
     ]
    }
   ],
   "source": [
    "!pip install easyocr"
   ]
  },
  {
   "cell_type": "code",
   "execution_count": 2,
   "id": "0150416a-656f-4669-a0a5-54c8d91ada6e",
   "metadata": {},
   "outputs": [],
   "source": [
    "from ultralytics import YOLO\n",
    "import cv2\n",
    "import easyocr"
   ]
  },
  {
   "cell_type": "code",
   "execution_count": 3,
   "id": "e9c9971d-2862-4190-94e9-c38f104d9aac",
   "metadata": {},
   "outputs": [],
   "source": [
    "model= YOLO(r\"C:\\Users\\mahia\\OneDrive\\Desktop\\infosys_project\\detection_model\\runs\\detect\\train13\\weights\\best.pt\")"
   ]
  },
  {
   "cell_type": "code",
   "execution_count": 4,
   "id": "332406eb-43b6-4080-bd18-e314ca0e9d9f",
   "metadata": {},
   "outputs": [
    {
     "name": "stderr",
     "output_type": "stream",
     "text": [
      "Neither CUDA nor MPS are available - defaulting to CPU. Note: This module is much faster with a GPU.\n",
      "Downloading detection model, please wait. This may take several minutes depending upon your network connection.\n"
     ]
    },
    {
     "name": "stdout",
     "output_type": "stream",
     "text": [
      "Progress: |██████████████████████████████████████████████████| 100.0% Complete"
     ]
    },
    {
     "name": "stderr",
     "output_type": "stream",
     "text": [
      "Downloading recognition model, please wait. This may take several minutes depending upon your network connection.\n"
     ]
    },
    {
     "name": "stdout",
     "output_type": "stream",
     "text": [
      "Progress: |██████████████████████████████████████████████████| 100.0% Complete"
     ]
    }
   ],
   "source": [
    "reader = easyocr.Reader(['en'])"
   ]
  },
  {
   "cell_type": "code",
   "execution_count": 17,
   "id": "c61e5169-64d6-454e-b94c-6ce7e87754b8",
   "metadata": {},
   "outputs": [
    {
     "name": "stdout",
     "output_type": "stream",
     "text": [
      "\n",
      "image 1/1 C:\\Users\\mahia\\OneDrive\\Desktop\\infosys_project\\detection_model\\aadhar_2.jpeg: 640x512 1 name, 2 uids, 1 address, 164.4ms\n",
      "Speed: 3.2ms preprocess, 164.4ms inference, 3.2ms postprocess per image at shape (1, 3, 640, 512)\n"
     ]
    }
   ],
   "source": [
    "image_path = r\"C:\\Users\\mahia\\OneDrive\\Desktop\\infosys_project\\detection_model\\aadhar_2.jpeg\"  # replace with your image path\n",
    "results = model(image_path)"
   ]
  },
  {
   "cell_type": "code",
   "execution_count": 18,
   "id": "718a7af4-2976-403b-b3dd-4d9ad2bc97e8",
   "metadata": {},
   "outputs": [],
   "source": [
    "# Load the original image\n",
    "image = cv2.imread(image_path)\n",
    "\n",
    "# Dictionary to store extracted fields\n",
    "extracted_data = {}"
   ]
  },
  {
   "cell_type": "code",
   "execution_count": 19,
   "id": "0735171a-03ac-4e7b-a2c4-3900dcb35822",
   "metadata": {},
   "outputs": [],
   "source": [
    "# Iterate through detections\n",
    "for result in results[0].boxes.data.tolist():  # results[0].boxes.data contains bounding box details\n",
    "    x1, y1, x2, y2, confidence, class_id = map(int, result[:6])\n",
    "    field_class = model.names[class_id]  # Get class name (e.g., 'Name', 'UID', 'Address')\n",
    "\n",
    "    # Crop the detected region\n",
    "    cropped_roi = image[y1:y2, x1:x2]\n",
    "\n",
    "    # Convert cropped ROI to grayscale for OCR\n",
    "    gray_roi = cv2.cvtColor(cropped_roi, cv2.COLOR_BGR2GRAY)\n",
    "\n",
    "    # Use EasyOCR to extract text\n",
    "text = reader.readtext(gray_roi, detail=0)  # detail=0 returns only the text\n",
    "\n",
    "# Save the text to the extracted_data dictionary\n",
    "extracted_data[field_class] = ' '.join(text)  # Combine detected text if multiple lines"
   ]
  },
  {
   "cell_type": "code",
   "execution_count": 20,
   "id": "4371ee2d-ec7b-49c7-b03e-1e14b40cbf8b",
   "metadata": {},
   "outputs": [
    {
     "name": "stdout",
     "output_type": "stream",
     "text": [
      "Extracted Data: {'uid': '5826 2023 8724'}\n"
     ]
    }
   ],
   "source": [
    "# Print the extracted fields\n",
    "print(\"Extracted Data:\", extracted_data)"
   ]
  },
  {
   "cell_type": "code",
   "execution_count": null,
   "id": "cc5b9555-c594-4ec7-9085-98684fd8911a",
   "metadata": {},
   "outputs": [],
   "source": []
  }
 ],
 "metadata": {
  "kernelspec": {
   "display_name": "Python 3 (ipykernel)",
   "language": "python",
   "name": "python3"
  },
  "language_info": {
   "codemirror_mode": {
    "name": "ipython",
    "version": 3
   },
   "file_extension": ".py",
   "mimetype": "text/x-python",
   "name": "python",
   "nbconvert_exporter": "python",
   "pygments_lexer": "ipython3",
   "version": "3.12.6"
  }
 },
 "nbformat": 4,
 "nbformat_minor": 5
}
